{
 "cells": [
  {
   "cell_type": "markdown",
   "metadata": {},
   "source": [
    "<div style=\"text-align: center;\">\n",
    "  <img src=\"https://github.com/Hack-io-Data/Imagenes/blob/main/01-LogosHackio/logo_naranja@4x.png?raw=true\" alt=\"esquema\" />\n",
    "</div>"
   ]
  },
  {
   "cell_type": "markdown",
   "metadata": {},
   "source": [
    "# Laboratorio de Regex:"
   ]
  },
  {
   "cell_type": "markdown",
   "metadata": {},
   "source": [
    "### Ejercicio 1: Extracción de datos.\n",
    "\n",
    "Recuerda que necesitamos hacer importaciones antes de enfrentarnos a un problema. "
   ]
  },
  {
   "cell_type": "code",
   "execution_count": 526,
   "metadata": {},
   "outputs": [],
   "source": [
    "# Importaciones:\n",
    "## Para trabajar con expresiones regulares\n",
    "import re\n",
    "\n",
    "## Para contar las palabras de un texto \n",
    "from collections import Counter "
   ]
  },
  {
   "cell_type": "markdown",
   "metadata": {},
   "source": [
    "Dado el archivo `datos_artistas.txt` usa las **expresiones regulares** para extraer los siguientes datos, con el código que encontrarás en la siguiente celda:"
   ]
  },
  {
   "cell_type": "code",
   "execution_count": 527,
   "metadata": {},
   "outputs": [
    {
     "name": "stdout",
     "output_type": "stream",
     "text": [
      "BobDylan bob.dylan@gmail.com -1 123456789 http://bobdylan.com Like a Rolling Stone - 6:13 1965 Once upon a time you dressed so fine\n",
      "Threw the bums a dime in your prime, didn't you?\n",
      "People call say 'be\n"
     ]
    }
   ],
   "source": [
    "with open('Datos/datos_artistas.txt', 'r', encoding = \"UTF-8\") as archivo:\n",
    "    contenido = archivo.read()\n",
    "    # Aquí puedes trabajar con el contenido del archivo\n",
    "\n",
    "print(contenido[:200])"
   ]
  },
  {
   "cell_type": "markdown",
   "metadata": {},
   "source": [
    "#### 1.1 La información de cada artista(nombre, correo de contacto, número de contacto y sitio web)."
   ]
  },
  {
   "cell_type": "code",
   "execution_count": 528,
   "metadata": {},
   "outputs": [
    {
     "data": {
      "text/plain": [
       "[['Bob Dylan', 'bob.dylan@gmail.com', '-1 123456789', 'http://bobdylan.com'],\n",
       " ['The Beatles',\n",
       "  'contact@thebeatles.co.uk',\n",
       "  '-44 234567890',\n",
       "  'http://thebeatles.co.uk'],\n",
       " ['Elton John',\n",
       "  'elton.john@hotmail.com',\n",
       "  '-34 345678901',\n",
       "  'http://eltonjohn.com'],\n",
       " ['Queen', 'info@queenonline.com', '-23 456789012', 'http://queenonline.com'],\n",
       " ['Michael Jackson',\n",
       "  'michael.jackson@yahoo.com',\n",
       "  '-1 567890123',\n",
       "  'http://michaeljackson.com'],\n",
       " ['Madonna', 'madonna@madonna.com', '-11 678901234', 'http://madonna.com'],\n",
       " ['David Bowie',\n",
       "  'david.bowie@outlook.com',\n",
       "  '-44 789012345',\n",
       "  'http://davidbowie.com'],\n",
       " ['Nirvana', 'contact@nirvana.com', '-2 890123456', 'http://nirvana.com'],\n",
       " ['Adele', 'adele@adele.com', '-44 901234567', 'http://adele.com'],\n",
       " ['Ed Sheeran',\n",
       "  'ed.sheeran@gmail.com',\n",
       "  '-44 123456789',\n",
       "  'http://edsheeran.com'],\n",
       " ['Beyoncé', 'beyonce@beyonce.com', '-1 234567890', 'http://beyonce.com'],\n",
       " ['Taylor Swift',\n",
       "  'taylor.swift@yahoo.com',\n",
       "  '-34 345678901',\n",
       "  'http://taylorswift.com'],\n",
       " ['Rihanna', 'rihanna@hotmail.com', '-1 456789012', 'http://rihanna.com'],\n",
       " ['Drake,', 'drake@drake.com', '-54 567890123,', 'http://drake.com'],\n",
       " ['Kanye West',\n",
       "  'kanye.west@gmail.com',\n",
       "  '-13 678901234',\n",
       "  'http://kanyewest.com'],\n",
       " ['Bruno Mars',\n",
       "  'bruno.mars@outlook.com',\n",
       "  '-1 789012345',\n",
       "  'https://brunomars.com'],\n",
       " ['Ariana Grande',\n",
       "  'ariana.grande@yahoo.com',\n",
       "  '-23 890123456',\n",
       "  'https://arianagrande.com'],\n",
       " ['Shakira,', 'shakira@hotmail.com', '-57 123456789,', 'http://shakira.com'],\n",
       " ['Coldplay', 'info@coldplay.com', '-57 234567890', 'http://coldplay.com'],\n",
       " ['Lady Gaga', 'lady.gaga@gmail.com', '-34 345678901', 'https://ladygaga.com']]"
      ]
     },
     "execution_count": 528,
     "metadata": {},
     "output_type": "execute_result"
    }
   ],
   "source": [
    "canciones = contenido.split(sep = \"./\")\n",
    "canc_artist = []\n",
    "\n",
    "for cancion in canciones:\n",
    "    canc_artist.append(cancion.split(\" \")[0:5])\n",
    "for i in range(len(canc_artist)):\n",
    "    canc_artist[i][2] = (\" \".join([canc_artist[i][2], canc_artist[i][3]]))\n",
    "    canc_artist[i].pop(-2)\n",
    "\n",
    "for i in range(len(canc_artist)):\n",
    "    canc_artist[i][0] = re.sub(pattern = \"(?<=\\w)(?=[A-Z])(?=\\w)\", repl = \" \", string = canc_artist[i][0])\n",
    "\n",
    "canc_artist\n"
   ]
  },
  {
   "cell_type": "markdown",
   "metadata": {},
   "source": [
    "#### 1.2 La información de cada canción(título, duración y fecha de lanzamiento)."
   ]
  },
  {
   "cell_type": "code",
   "execution_count": 529,
   "metadata": {},
   "outputs": [
    {
     "data": {
      "text/plain": [
       "[['Like a Rolling Stone', '6:13', '1965'],\n",
       " ['Hey Jude', '7:11', '1968'],\n",
       " ['Your Song', '4:01', '1970'],\n",
       " ['Bohemian Rhapsody', '5:55', '1975'],\n",
       " ['Billie Jean', '4:54', '1982'],\n",
       " ['Like a Prayer', '5:43', '1989'],\n",
       " ['Space Oddity', '5:18', '1969'],\n",
       " ['Smells Like Teen Spirit', '5:01', '1991'],\n",
       " ['Someone Like You', '4:45', '2011'],\n",
       " ['Shape of You', '3:53', '2017'],\n",
       " ['Halo', '4:21', '2008'],\n",
       " ['Blank Space', '3:52', '2014'],\n",
       " ['Diamonds', '3:45', '2012'],\n",
       " ['Hotline Bling', '4:27', '2015'],\n",
       " ['Stronger', '5:12', '2007'],\n",
       " ['Uptown Funk', '4:30', '2014'],\n",
       " ['7 Rings', '2:58', '2019'],\n",
       " [\"Hips Don't Lie\", '3:38', '2006'],\n",
       " ['Yellow', '4:26', '2000'],\n",
       " ['Bad Romance', '4:54', '2009']]"
      ]
     },
     "execution_count": 529,
     "metadata": {},
     "output_type": "execute_result"
    }
   ],
   "source": [
    "patron_infocanc = r\"\\d?\\s[A-Z].+\\s?,?\\d{4}\\s\"\n",
    "canc_info = []\n",
    "\n",
    "for i in range(len(canciones)):\n",
    "    info_cancion = re.search(patron_infocanc,canciones[i]).group().strip()\n",
    "    canc_info.append(info_cancion)\n",
    "\n",
    "canc_info_list = []\n",
    "\n",
    "for i in range(len(canc_info)):\n",
    "    canc_info[i] = canc_info[i].replace(\",\", \" \")\n",
    "    canc_info_list.append(canc_info[i].split(\" - \"))\n",
    "    canc_info_list[i].append(canc_info_list[i][1].split()[0])\n",
    "\n",
    "    canc_info_list[i].append(canc_info_list[i][1].split()[1])\n",
    "    canc_info_list[i].pop(1)\n",
    "\n",
    "\n",
    "# canc_info[0].split(\"-\")[1].strip().split()\n",
    "canc_info_list"
   ]
  },
  {
   "cell_type": "markdown",
   "metadata": {},
   "source": [
    "#### 1.3 Almacena la información en una lista de diccionarios donde cada diccionario contenga los datos de un artista y su canción asociada."
   ]
  },
  {
   "cell_type": "code",
   "execution_count": 530,
   "metadata": {},
   "outputs": [
    {
     "data": {
      "text/plain": [
       "[{'pista': 'Like a Rolling Stone',\n",
       "  'nombre': 'Bob Dylan',\n",
       "  'correo': 'bob.dylan@gmail.com',\n",
       "  'telf': '-1 123456789',\n",
       "  'web': 'http://bobdylan.com'},\n",
       " {'pista': 'Hey Jude',\n",
       "  'nombre': 'The Beatles',\n",
       "  'correo': 'contact@thebeatles.co.uk',\n",
       "  'telf': '-44 234567890',\n",
       "  'web': 'http://thebeatles.co.uk'},\n",
       " {'pista': 'Your Song',\n",
       "  'nombre': 'Elton John',\n",
       "  'correo': 'elton.john@hotmail.com',\n",
       "  'telf': '-34 345678901',\n",
       "  'web': 'http://eltonjohn.com'},\n",
       " {'pista': 'Bohemian Rhapsody',\n",
       "  'nombre': 'Queen',\n",
       "  'correo': 'info@queenonline.com',\n",
       "  'telf': '-23 456789012',\n",
       "  'web': 'http://queenonline.com'},\n",
       " {'pista': 'Billie Jean',\n",
       "  'nombre': 'Michael Jackson',\n",
       "  'correo': 'michael.jackson@yahoo.com',\n",
       "  'telf': '-1 567890123',\n",
       "  'web': 'http://michaeljackson.com'},\n",
       " {'pista': 'Like a Prayer',\n",
       "  'nombre': 'Madonna',\n",
       "  'correo': 'madonna@madonna.com',\n",
       "  'telf': '-11 678901234',\n",
       "  'web': 'http://madonna.com'},\n",
       " {'pista': 'Space Oddity',\n",
       "  'nombre': 'David Bowie',\n",
       "  'correo': 'david.bowie@outlook.com',\n",
       "  'telf': '-44 789012345',\n",
       "  'web': 'http://davidbowie.com'},\n",
       " {'pista': 'Smells Like Teen Spirit',\n",
       "  'nombre': 'Nirvana',\n",
       "  'correo': 'contact@nirvana.com',\n",
       "  'telf': '-2 890123456',\n",
       "  'web': 'http://nirvana.com'},\n",
       " {'pista': 'Someone Like You',\n",
       "  'nombre': 'Adele',\n",
       "  'correo': 'adele@adele.com',\n",
       "  'telf': '-44 901234567',\n",
       "  'web': 'http://adele.com'},\n",
       " {'pista': 'Shape of You',\n",
       "  'nombre': 'Ed Sheeran',\n",
       "  'correo': 'ed.sheeran@gmail.com',\n",
       "  'telf': '-44 123456789',\n",
       "  'web': 'http://edsheeran.com'},\n",
       " {'pista': 'Halo',\n",
       "  'nombre': 'Beyoncé',\n",
       "  'correo': 'beyonce@beyonce.com',\n",
       "  'telf': '-1 234567890',\n",
       "  'web': 'http://beyonce.com'},\n",
       " {'pista': 'Blank Space',\n",
       "  'nombre': 'Taylor Swift',\n",
       "  'correo': 'taylor.swift@yahoo.com',\n",
       "  'telf': '-34 345678901',\n",
       "  'web': 'http://taylorswift.com'},\n",
       " {'pista': 'Diamonds',\n",
       "  'nombre': 'Rihanna',\n",
       "  'correo': 'rihanna@hotmail.com',\n",
       "  'telf': '-1 456789012',\n",
       "  'web': 'http://rihanna.com'},\n",
       " {'pista': 'Hotline Bling',\n",
       "  'nombre': 'Drake,',\n",
       "  'correo': 'drake@drake.com',\n",
       "  'telf': '-54 567890123,',\n",
       "  'web': 'http://drake.com'},\n",
       " {'pista': 'Stronger',\n",
       "  'nombre': 'Kanye West',\n",
       "  'correo': 'kanye.west@gmail.com',\n",
       "  'telf': '-13 678901234',\n",
       "  'web': 'http://kanyewest.com'},\n",
       " {'pista': 'Uptown Funk',\n",
       "  'nombre': 'Bruno Mars',\n",
       "  'correo': 'bruno.mars@outlook.com',\n",
       "  'telf': '-1 789012345',\n",
       "  'web': 'https://brunomars.com'},\n",
       " {'pista': '7 Rings',\n",
       "  'nombre': 'Ariana Grande',\n",
       "  'correo': 'ariana.grande@yahoo.com',\n",
       "  'telf': '-23 890123456',\n",
       "  'web': 'https://arianagrande.com'},\n",
       " {'pista': \"Hips Don't Lie\",\n",
       "  'nombre': 'Shakira,',\n",
       "  'correo': 'shakira@hotmail.com',\n",
       "  'telf': '-57 123456789,',\n",
       "  'web': 'http://shakira.com'},\n",
       " {'pista': 'Yellow',\n",
       "  'nombre': 'Coldplay',\n",
       "  'correo': 'info@coldplay.com',\n",
       "  'telf': '-57 234567890',\n",
       "  'web': 'http://coldplay.com'},\n",
       " {'pista': 'Bad Romance',\n",
       "  'nombre': 'Lady Gaga',\n",
       "  'correo': 'lady.gaga@gmail.com',\n",
       "  'telf': '-34 345678901',\n",
       "  'web': 'https://ladygaga.com'}]"
      ]
     },
     "execution_count": 530,
     "metadata": {},
     "output_type": "execute_result"
    }
   ],
   "source": [
    "\n",
    "info_todo = []\n",
    "j = 0\n",
    "\n",
    "for i in canc_artist:\n",
    "    info_todo.append(dict(pista = canc_info_list[j][0] , nombre = i[0], correo = i[1], telf = i[2], web = i[3] ))\n",
    "    j += 1\n",
    "\n",
    "info_todo"
   ]
  },
  {
   "cell_type": "markdown",
   "metadata": {},
   "source": [
    "### Ejercicio 2: Análisis de datos\n",
    "Usa las **expresiones regulares** para extraer la siguiente información:"
   ]
  },
  {
   "cell_type": "markdown",
   "metadata": {},
   "source": [
    "#### 2.1 Busca la palabra más repetida en el texto completo.\n"
   ]
  },
  {
   "cell_type": "code",
   "execution_count": 626,
   "metadata": {},
   "outputs": [
    {
     "data": {
      "text/plain": [
       "('i', 496)"
      ]
     },
     "execution_count": 626,
     "metadata": {},
     "output_type": "execute_result"
    }
   ],
   "source": [
    "pattern_palabras = r\"\\b\\w\\b|\\b\\w+\\'?\\w+\\b\"\n",
    "contenido_repe = contenido\n",
    "\n",
    "\n",
    "def busca_palabras(texto):\n",
    "    \"\"\"\n",
    "    Función que cuenta la cantidad de veces que aparece cada palabra en un texto y devuelve \n",
    "    una lista de palabras únicas junto con una lista con sus respectivos conteos.\n",
    "\n",
    "    Args:\n",
    "        texto (str): El texto de entrada en el que se buscarán y contarán las palabras.\n",
    "\n",
    "    Returns:\n",
    "        tuple: Una tupla con dos listas:\n",
    "            - palabras_vistas (list): Lista de palabras únicas encontradas en el texto.\n",
    "            - conteo (list): Lista de enteros donde cada elemento representa el número de veces que \n",
    "              la palabra correspondiente en 'palabras_vistas' aparece en el texto.\n",
    "    \"\"\"\n",
    "    palabras_vistas = []\n",
    "    conteo = []\n",
    "    pattern_palabras = r\"\\b\\w\\b|\\b\\w+\\'?\\w+\\b\"\n",
    "    while True:\n",
    "        palabra_obj = re.search(pattern = pattern_palabras, string = texto)\n",
    "        try:\n",
    "            if palabra_obj.group().lower() not in palabras_vistas:\n",
    "                palabras_vistas.append(palabra_obj.group().lower())\n",
    "                conteo.append(1)\n",
    "            else:\n",
    "                conteo[palabras_vistas.index(palabra_obj.group().lower())] +=1\n",
    "            texto = texto[(palabra_obj.span()[1])::]\n",
    "        except:\n",
    "            break\n",
    "    return palabras_vistas, conteo\n",
    "\n",
    "palabras_vistas, conteo = busca_palabras(contenido_repe)\n",
    "palabras_vistas[conteo.index(max(conteo))], max(conteo)"
   ]
  },
  {
   "cell_type": "markdown",
   "metadata": {},
   "source": [
    "#### 2.2 Busca la palabra que más repetida en cada cación.\n"
   ]
  },
  {
   "cell_type": "code",
   "execution_count": 532,
   "metadata": {},
   "outputs": [
    {
     "name": "stdout",
     "output_type": "stream",
     "text": [
      "['Like a Rolling Stone', ('you', 30)]\n",
      "['Hey Jude', ('it', 11)]\n",
      "['Your Song', ('i', 22)]\n",
      "['Bohemian Rhapsody', ('me', 17)]\n",
      "['Billie Jean', ('the', 35)]\n",
      "['Like a Prayer', ('a', 47)]\n",
      "['Space Oddity', ('i', 10)]\n",
      "['Smells Like Teen Spirit', ('hello', 36)]\n",
      "['Someone Like You', ('i', 27)]\n",
      "['Shape of You', ('i', 54)]\n",
      "['Halo', ('halo', 70)]\n",
      "['Blank Space', ('i', 31)]\n",
      "['Diamonds', ('like', 38)]\n",
      "['Hotline Bling', ('you', 36)]\n",
      "['Stronger', ('i', 56)]\n",
      "['Uptown Funk', ('do', 64)]\n",
      "['7 Rings', ('i', 56)]\n",
      "[\"Hips Don't Lie\", ('i', 24)]\n",
      "['Yellow', ('you', 21)]\n",
      "['Bad Romance', ('oh', 135)]\n"
     ]
    }
   ],
   "source": [
    "mas_repe = []\n",
    "for cancion in canciones:\n",
    "    conteo1 = 0\n",
    "    palabras_vistas1, conteo1 = busca_palabras(cancion)\n",
    "    mas_repe.append((palabras_vistas1[conteo1.index(max(conteo1))], max(conteo1)))\n",
    "\n",
    "for i in range(len(canc_info_list)):\n",
    "    print([canc_info_list[i][0],mas_repe[i]])\n"
   ]
  },
  {
   "cell_type": "markdown",
   "metadata": {},
   "source": [
    "#### 2.3 Busca el nombre de la canción que más dura.\n"
   ]
  },
  {
   "cell_type": "code",
   "execution_count": 533,
   "metadata": {},
   "outputs": [
    {
     "data": {
      "text/plain": [
       "['Hey Jude', '7:11', '1968']"
      ]
     },
     "execution_count": 533,
     "metadata": {},
     "output_type": "execute_result"
    }
   ],
   "source": [
    "duracion = []\n",
    "segundos = []\n",
    "for cancion in canc_info_list:\n",
    "    duracion.append(cancion[1])\n",
    "\n",
    "for minutos in duracion:\n",
    "    segundos.append(int(re.split(\":\", minutos)[0])*60+int(re.split(\":\", minutos)[1]))\n",
    "\n",
    "canc_info_list[segundos.index(max(segundos))]"
   ]
  },
  {
   "cell_type": "markdown",
   "metadata": {},
   "source": [
    "#### 2.4 Busca el nombre de la canción que menos dura."
   ]
  },
  {
   "cell_type": "code",
   "execution_count": 534,
   "metadata": {},
   "outputs": [
    {
     "data": {
      "text/plain": [
       "['7 Rings', '2:58', '2019']"
      ]
     },
     "execution_count": 534,
     "metadata": {},
     "output_type": "execute_result"
    }
   ],
   "source": [
    "canc_info_list[segundos.index(min(segundos))]"
   ]
  },
  {
   "cell_type": "markdown",
   "metadata": {},
   "source": [
    "#### 2.5 Busca el nombre y la fecha de lanzamiento de la canción más actual."
   ]
  },
  {
   "cell_type": "code",
   "execution_count": 536,
   "metadata": {},
   "outputs": [
    {
     "data": {
      "text/plain": [
       "['7 Rings', '2:58', '2019']"
      ]
     },
     "execution_count": 536,
     "metadata": {},
     "output_type": "execute_result"
    }
   ],
   "source": [
    "year = []\n",
    "for cancion in canc_info_list:\n",
    "    year.append(cancion[2])\n",
    "\n",
    "canc_info_list[year.index(max(year))]"
   ]
  },
  {
   "cell_type": "markdown",
   "metadata": {},
   "source": [
    "#### 2.6 Calcula la cantidad de países a partir de los números de contacto."
   ]
  },
  {
   "cell_type": "code",
   "execution_count": 549,
   "metadata": {},
   "outputs": [
    {
     "data": {
      "text/plain": [
       "9"
      ]
     },
     "execution_count": 549,
     "metadata": {},
     "output_type": "execute_result"
    }
   ],
   "source": [
    "countries = []\n",
    "\n",
    "for artist in canc_artist:\n",
    "    countries.append(artist[2].split()[0])\n",
    "\n",
    "len(set(countries))\n"
   ]
  },
  {
   "cell_type": "markdown",
   "metadata": {},
   "source": [
    "#### 2.7 Agrupa las canciones por década."
   ]
  },
  {
   "cell_type": "code",
   "execution_count": 603,
   "metadata": {},
   "outputs": [
    {
     "data": {
      "text/plain": [
       "['19', '01']"
      ]
     },
     "execution_count": 603,
     "metadata": {},
     "output_type": "execute_result"
    }
   ],
   "source": [
    "string_prueba = \"1901\"\n",
    "re.split(pattern=r\"(?<=\\d{2})(?=\\d{2})\", string = string_prueba)"
   ]
  },
  {
   "cell_type": "code",
   "execution_count": 625,
   "metadata": {},
   "outputs": [
    {
     "name": "stdout",
     "output_type": "stream",
     "text": [
      "Canción: Like a Rolling Stone. Década de los 1960.\n",
      "Canción: Hey Jude. Década de los 1960.\n",
      "Canción: Your Song. Década de los 1960.\n",
      "Canción: Bohemian Rhapsody. Década de los 1970.\n",
      "Canción: Billie Jean. Década de los 1980.\n",
      "Canción: Like a Prayer. Década de los 1980.\n",
      "Canción: Space Oddity. Década de los 1960.\n",
      "Canción: Smells Like Teen Spirit. Década de los 1990.\n",
      "Canción: Someone Like You. Década de los 2010.\n",
      "Canción: Shape of You. Década de los 2010.\n",
      "Canción: Halo. Década de los 2000.\n",
      "Canción: Blank Space. Década de los 2010.\n",
      "Canción: Diamonds. Década de los 2010.\n",
      "Canción: Hotline Bling. Década de los 2010.\n",
      "Canción: Stronger. Década de los 2000.\n",
      "Canción: Uptown Funk. Década de los 2010.\n",
      "Canción: 7 Rings. Década de los 2010.\n",
      "Canción: Hips Don't Lie. Década de los 2000.\n",
      "Canción: Yellow. Década de los 2000.\n",
      "Canción: Bad Romance. Década de los 2000.\n",
      "\n",
      "Década 1960: ['Like a Rolling Stone', 'Hey Jude', 'Your Song', 'Space Oddity']\n",
      "Década 1970: ['Bohemian Rhapsody']\n",
      "Década 1980: ['Billie Jean', 'Like a Prayer']\n",
      "Década 1990: ['Smells Like Teen Spirit']\n",
      "Década 2010: ['Someone Like You', 'Shape of You', 'Blank Space', 'Diamonds', 'Hotline Bling', 'Uptown Funk', '7 Rings']\n",
      "Década 2000: ['Halo', 'Stronger', \"Hips Don't Lie\", 'Yellow', 'Bad Romance']\n"
     ]
    }
   ],
   "source": [
    "pattern_decade = r\"(?<=\\d{2})(?=\\d{2})\"\n",
    "cent_dec = []\n",
    "for y in year:\n",
    "    cent_dec.append(re.split(pattern_decade, y))\n",
    "decade = []\n",
    "for d in cent_dec:\n",
    "    dec = str(int((int(d[1])-1)/10)*10)\n",
    "    if dec == \"0\":\n",
    "        decade.append(d[0]+dec+\"0\")\n",
    "    else:\n",
    "        decade.append(d[0]+dec)\n",
    "\n",
    "for i in range(len(decade)):\n",
    "    print(f'Canción: {canc_info_list[i][0]}. Década de los {decade[i]}.')\n",
    "print()\n",
    "\n",
    "## Método con diccionario\n",
    "dict_dec = dict()\n",
    "for i in range(len(decade)):\n",
    "    if decade[i] not in dict_dec.keys():\n",
    "        dict_dec[decade[i]] = [canc_info_list[i][0]]\n",
    "    else:\n",
    "        dict_dec[decade[i]].append(canc_info_list[i][0])\n",
    "\n",
    "for dec, canciones in dict_dec.items():\n",
    "    print(f'Década {dec}: {canciones}')"
   ]
  }
 ],
 "metadata": {
  "kernelspec": {
   "display_name": "envpruebas",
   "language": "python",
   "name": "python3"
  },
  "language_info": {
   "codemirror_mode": {
    "name": "ipython",
    "version": 3
   },
   "file_extension": ".py",
   "mimetype": "text/x-python",
   "name": "python",
   "nbconvert_exporter": "python",
   "pygments_lexer": "ipython3",
   "version": "3.11.9"
  }
 },
 "nbformat": 4,
 "nbformat_minor": 2
}
